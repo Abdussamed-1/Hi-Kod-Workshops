{
 "cells": [
  {
   "cell_type": "markdown",
   "id": "70b1a11a-e294-4ada-8b4b-597f7dda9621",
   "metadata": {},
   "source": [
    "# Exercises 1"
   ]
  },
  {
   "cell_type": "code",
   "execution_count": 2,
   "id": "e725eb2b-ff83-49ea-8d55-2d8428a6c3df",
   "metadata": {},
   "outputs": [
    {
     "data": {
      "text/plain": [
       "float"
      ]
     },
     "execution_count": 2,
     "metadata": {},
     "output_type": "execute_result"
    }
   ],
   "source": [
    "x = 3 \n",
    "t = float(x)\n",
    "type(t)"
   ]
  },
  {
   "cell_type": "code",
   "execution_count": 3,
   "id": "14ba625f-6a79-45a4-8a0b-ff68f9292328",
   "metadata": {},
   "outputs": [
    {
     "data": {
      "text/plain": [
       "int"
      ]
     },
     "execution_count": 3,
     "metadata": {},
     "output_type": "execute_result"
    }
   ],
   "source": [
    "y = 4.5\n",
    "u = int(y)\n",
    "type(u)"
   ]
  },
  {
   "cell_type": "code",
   "execution_count": 4,
   "id": "352406a4-90e2-4272-9658-cd8afacfe430",
   "metadata": {},
   "outputs": [
    {
     "data": {
      "text/plain": [
       "int"
      ]
     },
     "execution_count": 4,
     "metadata": {},
     "output_type": "execute_result"
    }
   ],
   "source": [
    "z = \"8\"\n",
    "z = int(z)\n",
    "type(z)"
   ]
  },
  {
   "cell_type": "code",
   "execution_count": 5,
   "id": "f0365b82-31db-462d-acdc-9e7485639a06",
   "metadata": {},
   "outputs": [
    {
     "data": {
      "text/plain": [
       "float"
      ]
     },
     "execution_count": 5,
     "metadata": {},
     "output_type": "execute_result"
    }
   ],
   "source": [
    "a = \"12\"\n",
    "a = int(a) # stringden integere\n",
    "b = float(a) # integerdan floata\n",
    "type(b)"
   ]
  },
  {
   "cell_type": "code",
   "execution_count": 6,
   "id": "8ab72c92-c50d-4b9e-8df8-468d521a61d2",
   "metadata": {},
   "outputs": [
    {
     "data": {
      "text/plain": [
       "int"
      ]
     },
     "execution_count": 6,
     "metadata": {},
     "output_type": "execute_result"
    }
   ],
   "source": [
    "b = \"46.8\" \n",
    "b = float(b)\n",
    "c = int(b)\n",
    "type(c)"
   ]
  },
  {
   "cell_type": "markdown",
   "id": "aec82ccc-f99e-4c48-955e-ebdfcc9ccdc8",
   "metadata": {},
   "source": [
    "# Excersice 2"
   ]
  },
  {
   "cell_type": "code",
   "execution_count": 8,
   "id": "ec6a93e9-b784-4f49-baa1-815084d9a8d3",
   "metadata": {},
   "outputs": [
    {
     "name": "stdout",
     "output_type": "stream",
     "text": [
      "True\n",
      "False\n",
      "False\n"
     ]
    }
   ],
   "source": [
    "alice = 19\n",
    "bob = 23\n",
    "john = 18\n",
    "\n",
    "print(alice < bob)\n",
    "print(bob < john)\n",
    "print(alice <= john)"
   ]
  },
  {
   "cell_type": "code",
   "execution_count": 9,
   "id": "dffbb992-5703-4b02-985d-0eb8faa65844",
   "metadata": {},
   "outputs": [
    {
     "ename": "SyntaxError",
     "evalue": "'return' outside function (2634483720.py, line 6)",
     "output_type": "error",
     "traceback": [
      "\u001b[1;36m  Cell \u001b[1;32mIn[9], line 6\u001b[1;36m\u001b[0m\n\u001b[1;33m    return 'grup'\u001b[0m\n\u001b[1;37m    ^\u001b[0m\n\u001b[1;31mSyntaxError\u001b[0m\u001b[1;31m:\u001b[0m 'return' outside function\n"
     ]
    }
   ],
   "source": [
    "if alice < bob :\n",
    "    print(\"bob alice'den büyüktür\")\n",
    "elif john < alice:\n",
    "    print(\"alice john'dan büyüktür\")\n",
    "else:\n",
    "    return 'grup'\n",
    "\n",
    "\n",
    "\n",
    "if alice < bob and john < alice:\n",
    "    print(\"bob alice'den büyüktür alice ise johndan büyüktür\")\n",
    "elif bob > john or alice < bob:\n",
    "    print(\"grubun en büyüğü bob'tur\")\n",
    "else:\n",
    "    return 'Grup'"
   ]
  },
  {
   "cell_type": "markdown",
   "id": "072d5949-d7ba-4f62-87cf-749c2abd217d",
   "metadata": {},
   "source": [
    "# Exercise 3"
   ]
  },
  {
   "cell_type": "code",
   "execution_count": null,
   "id": "c14d14a2-d1dc-4294-aac9-19a9bfaa416f",
   "metadata": {},
   "outputs": [],
   "source": [
    "value1 = float(input(\"please enter value :\"))\n",
    "value2 = float(input(\"please enter value : \"))\n",
    "\n",
    "plus = value1 + value2\n",
    "cross = value1 * value2\n",
    "minus = value1 - value2\n",
    "division = value1 / value2"
   ]
  },
  {
   "cell_type": "markdown",
   "id": "ee40b205-934e-4094-84a9-87f76452ebbe",
   "metadata": {},
   "source": [
    "# Exercise 4 "
   ]
  },
  {
   "cell_type": "code",
   "execution_count": null,
   "id": "c89b4e82-cba9-426f-bd6a-d46d1a7e79ea",
   "metadata": {},
   "outputs": [],
   "source": [
    "name  = str(input(\"please ender name : \"))\n",
    "age = float(input(\"please enter value : \"))\n",
    "city = str(input(\"please enter city : \"))\n",
    "occupation = str(input(\"please enter occupation\"))\n",
    "\n",
    "print(name)\n",
    "print(age)\n",
    "print(city)\n",
    "print(occupation)"
   ]
  },
  {
   "cell_type": "markdown",
   "id": "22bc62db-0b74-4297-9066-a4b93821be6f",
   "metadata": {},
   "source": [
    "# Exercise 5"
   ]
  },
  {
   "cell_type": "code",
   "execution_count": null,
   "id": "4071be92-ad7f-4e23-8ea9-aa44e138aaa5",
   "metadata": {},
   "outputs": [],
   "source": [
    "sent = \"Hi-Kod Veri Bilimi Atölyesi\"\n",
    "\n",
    "splicing = sent.split()\n",
    "word1 = splicing[0]"
   ]
  },
  {
   "cell_type": "code",
   "execution_count": null,
   "id": "9e33e710-5b49-4400-b315-6313227824fe",
   "metadata": {},
   "outputs": [],
   "source": [
    "print(word1)"
   ]
  },
  {
   "cell_type": "code",
   "execution_count": null,
   "id": "ca76ac63-b2d3-4ca8-a829-362c9bd74b3a",
   "metadata": {},
   "outputs": [],
   "source": [
    "big_sent = sent.upper()\n",
    "print(big_sent)"
   ]
  },
  {
   "cell_type": "code",
   "execution_count": null,
   "id": "080365bb-88b7-4c97-8884-e24ec33c800f",
   "metadata": {},
   "outputs": [],
   "source": [
    "# Sayı listesini tanımla\n",
    "sayilar = [1, 2, 3, 4, 5, 6, 7, 8, 9, 10]\n",
    "\n",
    "cift_sayilar = [sayi for sayi in sayilar if sayi % 2 == 0]\n",
    "tek_sayılar = [sayi for sayi in sayilar if sayi % 2 == 1]\n",
    "\n",
    "print(cift_sayilar, tek_sayılar)"
   ]
  },
  {
   "cell_type": "code",
   "execution_count": null,
   "id": "f5899cad-337c-41b1-8f01-fce729d054d7",
   "metadata": {},
   "outputs": [],
   "source": []
  }
 ],
 "metadata": {
  "kernelspec": {
   "display_name": "Python 3 (ipykernel)",
   "language": "python",
   "name": "python3"
  },
  "language_info": {
   "codemirror_mode": {
    "name": "ipython",
    "version": 3
   },
   "file_extension": ".py",
   "mimetype": "text/x-python",
   "name": "python",
   "nbconvert_exporter": "python",
   "pygments_lexer": "ipython3",
   "version": "3.12.4"
  }
 },
 "nbformat": 4,
 "nbformat_minor": 5
}
