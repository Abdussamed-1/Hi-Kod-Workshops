{
 "cells": [
  {
   "cell_type": "markdown",
   "id": "432654ca-719c-4d90-bffe-e2aea3ab2b43",
   "metadata": {},
   "source": [
    "# Exercise 1\n",
    "- Bir sözlük oluşturulur ve bu sözlükte öğrencilerin isimleri ve Matematik, Fizik, Kimya notları tutulur. Kullanıcıdan isim ve ders ismi(Matematik, Fizik, Kimya) istenir ve bu bilgilere göre çıktı verilir.\n",
    "\n",
    "- Sözlük üzerinde değerleri değiştirme, yeni değer ekleme, kullanıcıya ulaşmak istediği bilgileri sorma gibi uygulamalar yapın."
   ]
  },
  {
   "cell_type": "code",
   "execution_count": 11,
   "id": "c1f42e8e-da2c-4cf5-b69d-0fb8787c909e",
   "metadata": {},
   "outputs": [
    {
     "name": "stdin",
     "output_type": "stream",
     "text": [
      "Öğrencinin ismini girin:  Mehmet\n",
      "Hangi dersin notunu öğrenmek istiyorsunuz? (Matematik, Fizik, Kimya):  Kimya\n"
     ]
    },
    {
     "name": "stdout",
     "output_type": "stream",
     "text": [
      "Mehmet adlı öğrencinin Kimya notu: 75\n"
     ]
    }
   ],
   "source": [
    "# Öğrencilerin isimleri ve notlarının tutulduğu sözlük\n",
    "ogrenciler = {\n",
    "    'Ali': {'Matematik': 85, 'Fizik': 78, 'Kimya': 92},\n",
    "    'Ayşe': {'Matematik': 90, 'Fizik': 88, 'Kimya': 95},\n",
    "    'Mehmet': {'Matematik': 70, 'Fizik': 60, 'Kimya': 75}\n",
    "}\n",
    "\n",
    "# Kullanıcıdan isim ve ders bilgisi alma\n",
    "isim = input(\"Öğrencinin ismini girin: \")\n",
    "ders = input(\"Hangi dersin notunu öğrenmek istiyorsunuz? (Matematik, Fizik, Kimya): \")\n",
    "\n",
    "# İlgili öğrenci ve ders bilgisine göre çıktıyı gösterme\n",
    "if isim in ogrenciler:\n",
    "    if ders in ogrenciler[isim]:\n",
    "        print(f\"{isim} adlı öğrencinin {ders} notu: {ogrenciler[isim][ders]}\")\n",
    "    else:\n",
    "        print(f\"{isim} adlı öğrencinin {ders} notu mevcut değil.\")\n",
    "else:\n",
    "    print(f\"{isim} adlı öğrenci listede bulunamadı.\")"
   ]
  },
  {
   "cell_type": "code",
   "execution_count": 13,
   "id": "675e3658-8535-4c06-af6f-4b5ef6308e7d",
   "metadata": {},
   "outputs": [
    {
     "data": {
      "text/plain": [
       "{'Ali': {'Matematik': 85, 'Fizik': 78, 'Kimya': 92},\n",
       " 'Ayşe': {'Matematik': 90, 'Fizik': 88, 'Kimya': 95},\n",
       " 'Mehmet': {'Matematik': 85, 'Fizik': 60, 'Kimya': 75}}"
      ]
     },
     "execution_count": 13,
     "metadata": {},
     "output_type": "execute_result"
    }
   ],
   "source": [
    "ogrenciler['Mehmet']['Matematik'] = 85\n",
    "ogrenciler"
   ]
  },
  {
   "cell_type": "code",
   "execution_count": 45,
   "id": "820d42ff-91d3-4dc9-a22a-94a4f25c9668",
   "metadata": {},
   "outputs": [
    {
     "name": "stdin",
     "output_type": "stream",
     "text": [
      "Lütfen İsminizi girin Hasan\n",
      "Lütfen Hasan Matematik sınavını girin:  70\n",
      "Lütfen Hasan Fizik sınavını girin:  80\n",
      "Lütfen Hasan Kimya sınavını  girin:  60\n"
     ]
    }
   ],
   "source": [
    "student_name = str(input(\"Lütfen İsminizi girin\"))\n",
    "Mat_exam = int(input(f\"Lütfen {student_name} Matematik sınavını girin: \"))\n",
    "phys_exam = int(input(f\"Lütfen {student_name} Fizik sınavını girin: \"))\n",
    "chem_exam = int(input(f\"Lütfen {student_name} Kimya sınavını  girin: \"))\n",
    "\n",
    "ogrenciler[student_name] = {\n",
    "    \"Matematik\": Mat_exam,\n",
    "    \"Fizik\": phys_exam,\n",
    "    \"Kimya\": chem_exam\n",
    "}"
   ]
  },
  {
   "cell_type": "code",
   "execution_count": 47,
   "id": "52c67a15-a1d8-4b4f-90e4-2f82da6e5709",
   "metadata": {},
   "outputs": [
    {
     "data": {
      "text/plain": [
       "{'Ali': {'Matematik': 85, 'Fizik': 78, 'Kimya': 92},\n",
       " 'Ayşe': {'Matematik': 90, 'Fizik': 88, 'Kimya': 95},\n",
       " 'Mehmet': {'Matematik': 85, 'Fizik': 60, 'Kimya': 75},\n",
       " 'Hasan': {'Matematik': 70, 'Fizik': 80, 'Kimya': 60}}"
      ]
     },
     "execution_count": 47,
     "metadata": {},
     "output_type": "execute_result"
    }
   ],
   "source": [
    "ogrenciler"
   ]
  },
  {
   "cell_type": "code",
   "execution_count": null,
   "id": "ca6eb4e1-1cad-47dc-a69e-c40c57b1e4b3",
   "metadata": {},
   "outputs": [],
   "source": []
  }
 ],
 "metadata": {
  "kernelspec": {
   "display_name": "Python 3 (ipykernel)",
   "language": "python",
   "name": "python3"
  },
  "language_info": {
   "codemirror_mode": {
    "name": "ipython",
    "version": 3
   },
   "file_extension": ".py",
   "mimetype": "text/x-python",
   "name": "python",
   "nbconvert_exporter": "python",
   "pygments_lexer": "ipython3",
   "version": "3.12.4"
  }
 },
 "nbformat": 4,
 "nbformat_minor": 5
}
