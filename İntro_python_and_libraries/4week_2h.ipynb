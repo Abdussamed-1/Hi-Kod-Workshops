{
 "cells": [
  {
   "cell_type": "markdown",
   "id": "b0fc352e-aae0-4239-b83c-b019ef070228",
   "metadata": {},
   "source": [
    "# Exercise 1"
   ]
  },
  {
   "cell_type": "markdown",
   "id": "5b3be4dc-3edf-4d34-a838-04dee5a2d3b7",
   "metadata": {},
   "source": [
    "* Aşağıdaki işlemleri indexing ve slicing kullanarak liste üzerinde uygulayın.\n",
    "\n",
    "<ul>\n",
    "    <i> liste = [\"Python\",True,9,\"3\",8.4,\"Hi-Kod\",\"False\",4.7] <i>   \n",
    "</ul>\n",
    "\n",
    "- \"3\" değerine ulaşmak için indexleme yapın.\n",
    "- \"Hi-Kod\" değerine ulaşmak için indexleme yapın. \n",
    "- 4.7 değerine ulaşmak için indexleme yapın.\n",
    "- 9,\"3\",8.4,\"Hi-Kod\" değerlerine ulaşmak için slicing yapın.\n",
    "- 8.4,\"Hi-Kod\",\"False\",4.7 değerlerine ulaşmak için slicing yapın."
   ]
  },
  {
   "cell_type": "code",
   "execution_count": 1,
   "id": "beae1022-0bf2-47d8-b5d7-f2048587e8cb",
   "metadata": {},
   "outputs": [],
   "source": [
    "liste = [\"Python\",True,9,\"3\",8.4,\"Hi-Kod\",\"False\",4.7]"
   ]
  },
  {
   "cell_type": "code",
   "execution_count": 2,
   "id": "13922ccd-4b24-4578-841c-dbed16474081",
   "metadata": {},
   "outputs": [
    {
     "data": {
      "text/plain": [
       "'3'"
      ]
     },
     "execution_count": 2,
     "metadata": {},
     "output_type": "execute_result"
    }
   ],
   "source": [
    "#\"3\" değerine ulaşmak için indexleme yapın.\n",
    "liste[3]"
   ]
  },
  {
   "cell_type": "code",
   "execution_count": 3,
   "id": "402450ec-d2d8-47d3-ba46-c68fdacf2293",
   "metadata": {},
   "outputs": [
    {
     "data": {
      "text/plain": [
       "'Hi-Kod'"
      ]
     },
     "execution_count": 3,
     "metadata": {},
     "output_type": "execute_result"
    }
   ],
   "source": [
    "# \"Hi-Kod\" değerine ulaşmak için indexleme yapın.\n",
    "liste[5]"
   ]
  },
  {
   "cell_type": "code",
   "execution_count": 4,
   "id": "0f7946bc-8922-4b88-9584-b27649e58bf5",
   "metadata": {},
   "outputs": [
    {
     "data": {
      "text/plain": [
       "4.7"
      ]
     },
     "execution_count": 4,
     "metadata": {},
     "output_type": "execute_result"
    }
   ],
   "source": [
    "#4.7 değerine ulaşmak için indexleme yapın.\n",
    "liste[7]"
   ]
  },
  {
   "cell_type": "code",
   "execution_count": 5,
   "id": "ebb2e0b7-901e-4709-a1e0-0d8cdfa7806f",
   "metadata": {},
   "outputs": [
    {
     "data": {
      "text/plain": [
       "[9, '3', 8.4, 'Hi-Kod']"
      ]
     },
     "execution_count": 5,
     "metadata": {},
     "output_type": "execute_result"
    }
   ],
   "source": [
    "#9,\"3\",8.4,\"Hi-Kod\" değerlerine ulaşmak için slicing yapın.\n",
    "liste[2:6]"
   ]
  },
  {
   "cell_type": "code",
   "execution_count": 6,
   "id": "0d7dc4cd-bdae-4737-819c-be7b87245f4e",
   "metadata": {},
   "outputs": [
    {
     "data": {
      "text/plain": [
       "[8.4, 'Hi-Kod', 'False', 4.7]"
      ]
     },
     "execution_count": 6,
     "metadata": {},
     "output_type": "execute_result"
    }
   ],
   "source": [
    "#8.4,\"Hi-Kod\",\"False\",4.7 değerlerine ulaşmak için slicing yapın.\n",
    "liste[4:8]"
   ]
  },
  {
   "cell_type": "markdown",
   "id": "b56e40f2-2039-4a90-b8cb-c0c50fb09b4d",
   "metadata": {},
   "source": [
    "# Exercise 2\n",
    "\n",
    "- Verilen listede bulunan string veri tipindeki öğeleri yeni_liste isimli listeye eklenir.\n",
    "\n",
    "<ul>\n",
    "    <i> liste = [\"Python\",True,9,\"3\",8.4,\"Hi-Kod\",\"False\",4.7] <i>   \n",
    "</ul>"
   ]
  },
  {
   "cell_type": "code",
   "execution_count": 8,
   "id": "db250c22-2ac1-4a72-8a8e-85284dd4dc69",
   "metadata": {},
   "outputs": [],
   "source": [
    "new_list = []\n",
    "for i in liste:\n",
    "    if type(i) == str:\n",
    "        new_list.append(i)"
   ]
  },
  {
   "cell_type": "code",
   "execution_count": 16,
   "id": "fbfcbef8-fa30-4b89-9a6b-70f728c8debd",
   "metadata": {},
   "outputs": [
    {
     "data": {
      "text/plain": [
       "['Python', '3', 'Hi-Kod', 'False']"
      ]
     },
     "execution_count": 16,
     "metadata": {},
     "output_type": "execute_result"
    }
   ],
   "source": [
    "new_list"
   ]
  },
  {
   "cell_type": "markdown",
   "id": "3fe1e5ba-4d39-40f6-9ff4-d78eaf2d9e81",
   "metadata": {},
   "source": [
    "# Exercise\n",
    " <ul>\n",
    "     <p>Enumerate methodunu araştırın ve aşağıdaki örneği enumerate methodu ile yapın.</p>\n",
    "     <i>for index in range(len(meyveler)): <i>\n",
    "     <i>print(\"{}. indexte bulunan meyve: {}\".format(index,meyveler[index])<i>\n",
    "</ul>"
   ]
  },
  {
   "cell_type": "code",
   "execution_count": 35,
   "id": "24f1ac98-6e6d-4b40-8de7-4753f36cc21f",
   "metadata": {},
   "outputs": [
    {
     "name": "stdout",
     "output_type": "stream",
     "text": [
      "0. indekste bulunan meyve : elma \n",
      "1. indekste bulunan meyve : armut \n",
      "2. indekste bulunan meyve : muz \n",
      "3. indekste bulunan meyve : Portakal \n",
      "4. indekste bulunan meyve : çilek \n",
      "5. indekste bulunan meyve : kivi \n",
      "6. indekste bulunan meyve : Karpuz \n"
     ]
    }
   ],
   "source": [
    "liste = ['elma', 'armut', 'muz','Portakal','çilek','kivi','Karpuz']\n",
    "\n",
    "for indeks, meyve in enumerate(liste):\n",
    "    print(f\"{indeks}. indekste bulunan meyve : {meyve} \")\n"
   ]
  },
  {
   "cell_type": "code",
   "execution_count": null,
   "id": "ea57fdf4-5045-4ac1-bdbe-9c6a06a216f6",
   "metadata": {},
   "outputs": [],
   "source": []
  }
 ],
 "metadata": {
  "kernelspec": {
   "display_name": "Python 3 (ipykernel)",
   "language": "python",
   "name": "python3"
  },
  "language_info": {
   "codemirror_mode": {
    "name": "ipython",
    "version": 3
   },
   "file_extension": ".py",
   "mimetype": "text/x-python",
   "name": "python",
   "nbconvert_exporter": "python",
   "pygments_lexer": "ipython3",
   "version": "3.12.4"
  }
 },
 "nbformat": 4,
 "nbformat_minor": 5
}
