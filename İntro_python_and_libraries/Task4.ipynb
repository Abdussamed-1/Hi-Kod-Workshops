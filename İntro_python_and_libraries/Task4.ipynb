{
 "cells": [
  {
   "cell_type": "markdown",
   "id": "768ba39a-fbd9-4fa7-b342-06bc8ee9e8bc",
   "metadata": {},
   "source": [
    "# Hi - Kod Atölyesi Numpy Task"
   ]
  },
  {
   "cell_type": "markdown",
   "id": "7e62bf27-884f-4ddd-a271-3b483de1be83",
   "metadata": {},
   "source": [
    "##  Exercise 1\n",
    "- Sayılardan oluşan bir boyutlu array oluşturun. Arrayi oluştururken sayıların veri tipini integer olarak belirtelim.\n",
    "\n",
    "<p>Oluşturulan arrayin boyut, eleman sayısı bilgilerine bakalım.</p>"
   ]
  },
  {
   "cell_type": "code",
   "execution_count": 1,
   "id": "cc69bf7b-7999-48e4-8584-381ac4279b89",
   "metadata": {},
   "outputs": [
    {
     "data": {
      "text/plain": [
       "array([2, 3, 4, 5, 8, 7], dtype=int64)"
      ]
     },
     "execution_count": 1,
     "metadata": {},
     "output_type": "execute_result"
    }
   ],
   "source": [
    "import numpy as np\n",
    "import pandas as pd\n",
    "\n",
    "a = np.array([2,3,4,5,8,7], dtype = \"int64\")\n",
    "a"
   ]
  },
  {
   "cell_type": "code",
   "execution_count": 3,
   "id": "8527263e-426b-485d-9670-c760f7ab787c",
   "metadata": {},
   "outputs": [
    {
     "data": {
      "text/plain": [
       "6"
      ]
     },
     "execution_count": 3,
     "metadata": {},
     "output_type": "execute_result"
    }
   ],
   "source": [
    "a.size"
   ]
  },
  {
   "cell_type": "markdown",
   "id": "7cfe75a0-2cef-4fd8-b04e-4cf8f20636e5",
   "metadata": {},
   "source": [
    "## Exercise 2\n",
    "- Aşağıda verilen iki boyutlu ve üç boyutlu arrayi oluşturalım. Bu arraylerin boyut, eleman sayısı, satır, sütun bilgilerine ulaşalım. \n",
    "\n",
    "İki boyutlu array:\n",
    "[[1,2,6,7],\n",
    " [4,3,9,5]]\n",
    "\n",
    "Üç boyutlu array:\n",
    "[[[7,5,14],[21,8,11]],\n",
    " [[8,6,20],[14,3,9]]]"
   ]
  },
  {
   "cell_type": "code",
   "execution_count": 6,
   "id": "cbbf7519-2529-4d69-92fb-c640af65729c",
   "metadata": {},
   "outputs": [],
   "source": [
    "b = np.array([[1,2,6,7], [4,3,9,5]])\n",
    "c = np.array([[[7,5,14],[21,8,11]], [[8,6,20],[14,3,9]]])"
   ]
  },
  {
   "cell_type": "code",
   "execution_count": 8,
   "id": "6e9646f8-cdfb-4881-82d0-36020622b8b2",
   "metadata": {},
   "outputs": [
    {
     "data": {
      "text/plain": [
       "8"
      ]
     },
     "execution_count": 8,
     "metadata": {},
     "output_type": "execute_result"
    }
   ],
   "source": [
    "b.size"
   ]
  },
  {
   "cell_type": "code",
   "execution_count": 10,
   "id": "846ebf86-c806-4b18-9111-b7cabbb27b20",
   "metadata": {},
   "outputs": [
    {
     "data": {
      "text/plain": [
       "12"
      ]
     },
     "execution_count": 10,
     "metadata": {},
     "output_type": "execute_result"
    }
   ],
   "source": [
    "c.size"
   ]
  },
  {
   "cell_type": "code",
   "execution_count": 12,
   "id": "d99f597e-d906-468f-ad12-e285789ecece",
   "metadata": {},
   "outputs": [
    {
     "data": {
      "text/plain": [
       "(2, 4)"
      ]
     },
     "execution_count": 12,
     "metadata": {},
     "output_type": "execute_result"
    }
   ],
   "source": [
    "b.shape"
   ]
  },
  {
   "cell_type": "code",
   "execution_count": 14,
   "id": "a5516463-c6f6-4dee-911b-9113afe526b1",
   "metadata": {},
   "outputs": [
    {
     "data": {
      "text/plain": [
       "(2, 2, 3)"
      ]
     },
     "execution_count": 14,
     "metadata": {},
     "output_type": "execute_result"
    }
   ],
   "source": [
    "c.shape"
   ]
  },
  {
   "cell_type": "code",
   "execution_count": 16,
   "id": "0b404652-6927-4fdb-b23f-8bc5b25da0e1",
   "metadata": {},
   "outputs": [
    {
     "data": {
      "text/plain": [
       "array([[1, 2, 6, 7],\n",
       "       [4, 3, 9, 5]])"
      ]
     },
     "execution_count": 16,
     "metadata": {},
     "output_type": "execute_result"
    }
   ],
   "source": [
    "b"
   ]
  },
  {
   "cell_type": "code",
   "execution_count": 18,
   "id": "04b1184a-bab6-468a-ae7f-449bbd268f8a",
   "metadata": {},
   "outputs": [
    {
     "data": {
      "text/plain": [
       "array([[[ 7,  5, 14],\n",
       "        [21,  8, 11]],\n",
       "\n",
       "       [[ 8,  6, 20],\n",
       "        [14,  3,  9]]])"
      ]
     },
     "execution_count": 18,
     "metadata": {},
     "output_type": "execute_result"
    }
   ],
   "source": [
    "c"
   ]
  },
  {
   "cell_type": "markdown",
   "id": "c42ee820-b50a-4722-b04c-450481c19030",
   "metadata": {},
   "source": [
    "## Exercise 3\n",
    "- İstenilen elamanlara ulaşmak için arrayler üzerinde indexleme işlemi yapalım"
   ]
  },
  {
   "cell_type": "code",
   "execution_count": 37,
   "id": "9cee2ffe-3144-44da-826e-b283ea432aad",
   "metadata": {},
   "outputs": [
    {
     "data": {
      "text/plain": [
       "2"
      ]
     },
     "execution_count": 37,
     "metadata": {},
     "output_type": "execute_result"
    }
   ],
   "source": [
    "#İki boyutlu arraydaki 2 elemanına ulaşalım\n",
    "b[0][1]"
   ]
  },
  {
   "cell_type": "code",
   "execution_count": 40,
   "id": "33d4ede9-e0af-4b98-a1fe-736338243770",
   "metadata": {},
   "outputs": [
    {
     "data": {
      "text/plain": [
       "7"
      ]
     },
     "execution_count": 40,
     "metadata": {},
     "output_type": "execute_result"
    }
   ],
   "source": [
    "#İki boyutlu arraydaki 7 elemanına ulaşalım\n",
    "b[0][3]"
   ]
  },
  {
   "cell_type": "code",
   "execution_count": 48,
   "id": "a2d204af-06f9-4d14-8280-0c410fa3cd21",
   "metadata": {},
   "outputs": [
    {
     "data": {
      "text/plain": [
       "9"
      ]
     },
     "execution_count": 48,
     "metadata": {},
     "output_type": "execute_result"
    }
   ],
   "source": [
    "#Üç boyutlu arraydaki 9 elemanına ulaşalım\n",
    "c[1][1][2]"
   ]
  },
  {
   "cell_type": "code",
   "execution_count": 53,
   "id": "b6d0b9dd-f7e6-432d-b413-edc5e76902f8",
   "metadata": {},
   "outputs": [
    {
     "data": {
      "text/plain": [
       "5"
      ]
     },
     "execution_count": 53,
     "metadata": {},
     "output_type": "execute_result"
    }
   ],
   "source": [
    "#Üç boyutlu arraydaki 5 elemanına ulaşalım\n",
    "c[0][0][1]"
   ]
  },
  {
   "cell_type": "code",
   "execution_count": null,
   "id": "b5abeb5f-6551-4935-9e6f-8841ed9f3252",
   "metadata": {},
   "outputs": [],
   "source": []
  },
  {
   "cell_type": "markdown",
   "id": "91aaf1b9-63e2-425b-904e-cc57ea9ac4d9",
   "metadata": {},
   "source": [
    "## Exercise 4 \n",
    "- Arrayler üzerinde slicing işlemi uygulayalım."
   ]
  },
  {
   "cell_type": "code",
   "execution_count": 58,
   "id": "cf68d980-8341-4838-93a4-a1bc026a46c6",
   "metadata": {},
   "outputs": [
    {
     "data": {
      "text/plain": [
       "array([2, 6])"
      ]
     },
     "execution_count": 58,
     "metadata": {},
     "output_type": "execute_result"
    }
   ],
   "source": [
    "#İki boyutlu arraydaki 2,6 elemanlarına ulaşalım\n",
    "b[0][1:3]"
   ]
  },
  {
   "cell_type": "code",
   "execution_count": 63,
   "id": "1591f37d-1460-4dcb-b7ec-fce1ec6e81a5",
   "metadata": {},
   "outputs": [
    {
     "data": {
      "text/plain": [
       "array([3, 9, 5])"
      ]
     },
     "execution_count": 63,
     "metadata": {},
     "output_type": "execute_result"
    }
   ],
   "source": [
    "#İki boyutlu arraydaki 3,9,5 elemanlarına ulaşalım\n",
    "b[1][1:4]"
   ]
  },
  {
   "cell_type": "code",
   "execution_count": 69,
   "id": "9f1888c0-0a8f-4061-b1a1-03b9f541dea2",
   "metadata": {},
   "outputs": [
    {
     "data": {
      "text/plain": [
       "array([21,  8, 11])"
      ]
     },
     "execution_count": 69,
     "metadata": {},
     "output_type": "execute_result"
    }
   ],
   "source": [
    "#Üç boyutlu arraydaki 21,8,11 elemanlarına ulaşalım\n",
    "c[0][1]"
   ]
  },
  {
   "cell_type": "code",
   "execution_count": 75,
   "id": "5fad31e4-f190-4b7b-a9c0-8c47c779eeeb",
   "metadata": {},
   "outputs": [
    {
     "data": {
      "text/plain": [
       "array([ 6, 20])"
      ]
     },
     "execution_count": 75,
     "metadata": {},
     "output_type": "execute_result"
    }
   ],
   "source": [
    "#Üç boyutlu arraydaki 6,20 elemanlarına ulaşalım\n",
    "c[1][0][1:3]"
   ]
  },
  {
   "cell_type": "code",
   "execution_count": null,
   "id": "416812dc-638d-4401-9d04-8714fe7057d2",
   "metadata": {},
   "outputs": [],
   "source": []
  },
  {
   "cell_type": "markdown",
   "id": "84e8622d-34fc-4292-b2e7-0862bbc414f7",
   "metadata": {},
   "source": [
    "## Exercise 5\n",
    "- 5 satır 3 sütunluk sıfırlardan ve birlerden oluşan iki tane iki boyutlu array oluşturalım. Bu arrayleri satır ve sütun bazında birleştirelim."
   ]
  },
  {
   "cell_type": "code",
   "execution_count": 77,
   "id": "4bf1b3f1-cacf-450a-84ab-c99660bf363f",
   "metadata": {},
   "outputs": [],
   "source": [
    "# 5x3 boyutunda sıfırlardan oluşan array\n",
    "array_sifir = np.zeros((5, 3), dtype=int)\n",
    "\n",
    "# 5x3 boyutunda birlerden oluşan array\n",
    "array_bir = np.ones((5, 3), dtype=int)\n",
    "\n",
    "# Satır bazında birleştirme (vertikal)\n",
    "satir_birlesim = np.vstack((array_sifir, array_bir))\n",
    "\n",
    "# Sütun bazında birleştirme (horizontal)\n",
    "sutun_birlesim = np.hstack((array_sifir, array_bir))"
   ]
  },
  {
   "cell_type": "code",
   "execution_count": 79,
   "id": "8f651161-2a54-46ff-b9b2-b4544d7f4999",
   "metadata": {},
   "outputs": [
    {
     "data": {
      "text/plain": [
       "array([[0, 0, 0],\n",
       "       [0, 0, 0],\n",
       "       [0, 0, 0],\n",
       "       [0, 0, 0],\n",
       "       [0, 0, 0],\n",
       "       [1, 1, 1],\n",
       "       [1, 1, 1],\n",
       "       [1, 1, 1],\n",
       "       [1, 1, 1],\n",
       "       [1, 1, 1]])"
      ]
     },
     "execution_count": 79,
     "metadata": {},
     "output_type": "execute_result"
    }
   ],
   "source": [
    "satir_birlesim"
   ]
  },
  {
   "cell_type": "code",
   "execution_count": 81,
   "id": "d61040a9-ecf0-41da-9d97-92fa1ebef300",
   "metadata": {},
   "outputs": [
    {
     "data": {
      "text/plain": [
       "array([[0, 0, 0, 1, 1, 1],\n",
       "       [0, 0, 0, 1, 1, 1],\n",
       "       [0, 0, 0, 1, 1, 1],\n",
       "       [0, 0, 0, 1, 1, 1],\n",
       "       [0, 0, 0, 1, 1, 1]])"
      ]
     },
     "execution_count": 81,
     "metadata": {},
     "output_type": "execute_result"
    }
   ],
   "source": [
    "sutun_birlesim"
   ]
  },
  {
   "cell_type": "code",
   "execution_count": null,
   "id": "4463dd78-28df-4f97-b6ee-dc868048490c",
   "metadata": {},
   "outputs": [],
   "source": []
  }
 ],
 "metadata": {
  "kernelspec": {
   "display_name": "Python 3 (ipykernel)",
   "language": "python",
   "name": "python3"
  },
  "language_info": {
   "codemirror_mode": {
    "name": "ipython",
    "version": 3
   },
   "file_extension": ".py",
   "mimetype": "text/x-python",
   "name": "python",
   "nbconvert_exporter": "python",
   "pygments_lexer": "ipython3",
   "version": "3.12.4"
  }
 },
 "nbformat": 4,
 "nbformat_minor": 5
}
