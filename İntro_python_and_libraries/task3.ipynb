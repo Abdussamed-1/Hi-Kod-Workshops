{
 "cells": [
  {
   "cell_type": "markdown",
   "id": "5a763eee-430b-4dd5-bb47-259c23073b17",
   "metadata": {},
   "source": [
    "# Exercise 1\n",
    "\n",
    "• Kullanıcıdan pi değeri ve yarıçap bilgisi alarak dairenin alanını hesaplayan bir fonksiyon oluşturulur.\n",
    "\n",
    "\n",
    "• Faktöriyel adında fonksiyon oluşturulur. Döngü kullanarak parametre olarak girilen sayının faktöriyeli hesaplanır. Format metodunu kullanılarak ekrana yazdırılır.\n",
    "\n",
    "\n",
    "• Kişinin fonksiyona doğum yılını vererek kaç yaşında olduğunu hesaplayan bir fonksiyon oluşturun. \n",
    "\n",
    "\n",
    "• Doğum yılı ve isim bilgisi verilen fonksiyon kişinin emekli olup olmadığını söylesin.(Kişi 65 yaşında ise emekli olur.) Burada yaş hesabını yukarıdaki örnekteki fonksiyonu kullanarak yapsın.(Yani fonksiyon içinde fonksiyon kullanmanızı istiyorum :)) Kişi 65 yaşında ya da daha fazlaysa \"Emekli oldunuz\" yanıtını, 65 yaşından küçükse emekliliğine kaç yıl kaldığını da hesaplayarak \"(isim) emekliliğine (yıl) kaldı.\" yanıtını versin."
   ]
  },
  {
   "cell_type": "code",
   "execution_count": 2,
   "id": "17b4526c-2ee0-4ac6-9342-d1c1eab0aa99",
   "metadata": {},
   "outputs": [],
   "source": [
    "import math \n",
    "\n",
    "pi = math.pi\n",
    "def area_calculate(pi):\n",
    "    r = float(input('Enter a number: '))\n",
    "    area = pi*(r**2)\n",
    "    return area    "
   ]
  },
  {
   "cell_type": "code",
   "execution_count": 4,
   "id": "1f8d7635-4afd-44bf-a2ae-8473b443c4d4",
   "metadata": {},
   "outputs": [
    {
     "name": "stdin",
     "output_type": "stream",
     "text": [
      "Enter a number : 6\n"
     ]
    },
    {
     "name": "stdout",
     "output_type": "stream",
     "text": [
      "Factor of the entered number : 6! = 720\n"
     ]
    }
   ],
   "source": [
    "def factorial(number):\n",
    "    result = 1\n",
    "    for i in range(1, number+1):\n",
    "        result *= i\n",
    "    return result\n",
    "\n",
    "number = int(input('Enter a number :'))\n",
    "print(\"Factor of the entered number : {}! = {}\".format(number, factorial(number)))"
   ]
  },
  {
   "cell_type": "code",
   "execution_count": 8,
   "id": "b07049f1-7f6f-44e0-af4b-b8f67968d567",
   "metadata": {},
   "outputs": [
    {
     "name": "stdin",
     "output_type": "stream",
     "text": [
      "Enter the current year:  2024\n"
     ]
    },
    {
     "data": {
      "text/plain": [
       "21"
      ]
     },
     "execution_count": 8,
     "metadata": {},
     "output_type": "execute_result"
    }
   ],
   "source": [
    "def birthday(birth):\n",
    "    name_and_surname = str(input('Enter the Name and Surname : '))\n",
    "    last_year = int(input('Enter the current year: '))\n",
    "    result = last_year - birth\n",
    "    return result\n",
    "\n",
    "birthday(2003)"
   ]
  },
  {
   "cell_type": "code",
   "execution_count": 24,
   "id": "e0397934-bf62-4746-a583-30bfccccafed",
   "metadata": {},
   "outputs": [],
   "source": [
    "def retired(birth):\n",
    "    birth = int(input('enter a birth year : '))\n",
    "    age = birthday(birth)\n",
    "    if age == 65:\n",
    "        print(f'You are age : {age} You retired')\n",
    "    elif age >= 65:\n",
    "        print(f'You are age : {age} You retired')\n",
    "    else:\n",
    "        retired = 65 - age\n",
    "        print(f\"you'll be able to retire: {retired}\")"
   ]
  },
  {
   "cell_type": "code",
   "execution_count": 30,
   "id": "7217b21f-8208-420d-8dd7-d7961ad8728c",
   "metadata": {},
   "outputs": [
    {
     "name": "stdin",
     "output_type": "stream",
     "text": [
      "enter a birth year :  1968\n",
      "Enter the current year:  2024\n"
     ]
    },
    {
     "name": "stdout",
     "output_type": "stream",
     "text": [
      "you'll be able to retire: 9\n"
     ]
    }
   ],
   "source": [
    "retired(birthday)"
   ]
  },
  {
   "cell_type": "code",
   "execution_count": null,
   "id": "f3e806e6-48e4-4041-9d15-cbf2d490fb46",
   "metadata": {},
   "outputs": [],
   "source": []
  }
 ],
 "metadata": {
  "kernelspec": {
   "display_name": "Python 3 (ipykernel)",
   "language": "python",
   "name": "python3"
  },
  "language_info": {
   "codemirror_mode": {
    "name": "ipython",
    "version": 3
   },
   "file_extension": ".py",
   "mimetype": "text/x-python",
   "name": "python",
   "nbconvert_exporter": "python",
   "pygments_lexer": "ipython3",
   "version": "3.12.4"
  }
 },
 "nbformat": 4,
 "nbformat_minor": 5
}
