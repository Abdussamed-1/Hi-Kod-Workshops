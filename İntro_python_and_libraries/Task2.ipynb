{
 "cells": [
  {
   "cell_type": "markdown",
   "id": "ae13e035-d2df-4fcb-8508-32165d3bebb3",
   "metadata": {},
   "source": [
    "# Exercise 1\n",
    "\n",
    "Kullanıcıdan maaş bilgisini istenir ve bu bilgiye göre maaşından ne kadar vergi kesileceğini hesaplanır. Kullanıcının geliri;\n",
    "\n",
    "1- 10000 ve altındaysa maaşından %5 kesinti olur. \n",
    "\n",
    "2- 25000 ve altındaysa maaşından %10 kesinti olur. \n",
    "\n",
    "3- 45000 ve altındaysa maaşından %25 kesinti olur. \n",
    "\n",
    "4- Diğer koşullarda %30 kesinti olur. \n",
    " \n",
    "Bu durumlara göre kullanıcının yeni maaşı yazdırılır.\n",
    "\n"
   ]
  },
  {
   "cell_type": "code",
   "execution_count": 5,
   "id": "ba320734-1718-4041-a3da-6c352ae93ce4",
   "metadata": {},
   "outputs": [
    {
     "name": "stdin",
     "output_type": "stream",
     "text": [
      "Enter User revenue :  15000\n"
     ]
    },
    {
     "name": "stdout",
     "output_type": "stream",
     "text": [
      "13500.0\n"
     ]
    }
   ],
   "source": [
    "user_revenue = float(input('Enter User revenue : '))\n",
    "\n",
    "if user_revenue <= 10000:\n",
    "    interruption = user_revenue-(user_revenue*5/100)\n",
    "    print(interruption)\n",
    "elif user_revenue <= 25000 :\n",
    "    interruption = user_revenue - (user_revenue*10/100)\n",
    "    print(interruption)\n",
    "elif user_revenue <= 45000:\n",
    "    interruption = interruption = user_revenue - (user_revenue*8/100)\n",
    "    print(interruption)\n",
    "else:\n",
    "    print(user_revenue- (user_revenue*30/100))"
   ]
  },
  {
   "cell_type": "markdown",
   "id": "7a0c05ab-e114-4c3b-a199-bcd159424da1",
   "metadata": {},
   "source": [
    "# Exercise 2\n",
    "\n",
    "Kullanıcıdan kullanıcı adı ve şifre oluşturmasını istenir. Şifrenin uzunluğu altı haneye ulaşmışsa hesabınız oluşturuldu mesajı alınır, altı haneden azsa altı haneli şifre oluşturması gerektiğinin mesajı alınır. (Sadece koşul kullanılması yeterli.)"
   ]
  },
  {
   "cell_type": "code",
   "execution_count": 7,
   "id": "eb7abc17-fd78-4ac1-aca9-718a49b09c9c",
   "metadata": {},
   "outputs": [
    {
     "name": "stdin",
     "output_type": "stream",
     "text": [
      "Enter a user name:  Abdussamet_6\n",
      "Enter a user password:  7335252A\n"
     ]
    },
    {
     "name": "stdout",
     "output_type": "stream",
     "text": [
      "Succesfully\n"
     ]
    }
   ],
   "source": [
    "user_name = str(input('Enter a user name: '))\n",
    "\n",
    "while True:\n",
    "    user_password = str(input('Enter a user password: '))\n",
    "    \n",
    "    if len(user_password) < 6:\n",
    "        print(str(input('At least 6 digits repait again : ' )))\n",
    "        continue\n",
    "        \n",
    "    print('Succesfully')\n",
    "    break"
   ]
  },
  {
   "cell_type": "markdown",
   "id": "3e34259a-ab95-4297-9673-2079d71e5190",
   "metadata": {},
   "source": [
    "# Exercise 3\n",
    "\n",
    "Bir önceki örnek geliştirilir.\n",
    "\n",
    "\n",
    "1- Kullanıcı girdiği şifre 5 ve 10 hane arasında olmak zorunda.\n",
    "\n",
    "2- Eğer bu koşula uyuyorsa \"Hesabınız oluşturuldu.\" mesajı alır.\n",
    "\n",
    "3- Koşulu sağlamıyorsa \"Lütfen girdiniz şifre 5 haneden az 10 haneden fazla olmasın!\" uyarısı alır. \n",
    "\n",
    "4- Bunu oluştururken kullanıcı istediğimiz şartlarda şifre oluşturana kadar sormaya devam eder."
   ]
  },
  {
   "cell_type": "code",
   "execution_count": 9,
   "id": "3c399ff0-8aec-4196-a988-ce4fef7d069c",
   "metadata": {},
   "outputs": [
    {
     "name": "stdin",
     "output_type": "stream",
     "text": [
      "Enter a user name:  Hooking_5\n",
      "Enter a user password:  7335252Abe\n"
     ]
    },
    {
     "name": "stdout",
     "output_type": "stream",
     "text": [
      "Succesfully\n"
     ]
    }
   ],
   "source": [
    "user_name = str(input('Enter a user name: '))\n",
    "\n",
    "while True:\n",
    "    user_password = str(input('Enter a user password: '))\n",
    "    \n",
    "    if len(user_password) < 5 and len(user_password) < 10:\n",
    "        print(str(input('At least 5 digits and 10 digits not more :  ' )))\n",
    "        continue\n",
    "        \n",
    "    print('Succesfully')\n",
    "    break"
   ]
  },
  {
   "cell_type": "markdown",
   "id": "00f18ef6-5720-46a0-811f-72a9bc8622f0",
   "metadata": {},
   "source": [
    "# Exercise 4\n",
    "\n",
    "Kullanıcıdan isim ve şifre isteyeceğiz ve şifre girişi için üç hak verilir.\n",
    "\n",
    "1- Eğer önceden tanımlı şifre ile kullanıcıdan gelen şifre aynıysa \"Giriş yapıldı.\" yazar.\n",
    " \n",
    "2- Şifre girişi yanlışsa \"Yanlış şifre girildi!\" uyarısı verilsin ve üç yanlış denemede program biter. \n",
    " \n",
    "3- Tercihe göre kalan hak bilgisi verilir. \n"
   ]
  },
  {
   "cell_type": "code",
   "execution_count": 11,
   "id": "bdbb9ff1-34ae-4666-9315-d5d3cf3b78b9",
   "metadata": {},
   "outputs": [
    {
     "name": "stdin",
     "output_type": "stream",
     "text": [
      "Enter a user name:   kullanıcı_adı\n"
     ]
    },
    {
     "name": "stdout",
     "output_type": "stream",
     "text": [
      "User name is wrong\n"
     ]
    }
   ],
   "source": [
    "# Önceden tanımlı kullanıcı adı ve şifre\n",
    "user_name = \"kullanici_adı\"  \n",
    "user_password = \"sifre123\"\n",
    "\n",
    "# Kullanıcıdan giriş bilgileri istenir\n",
    "user_valid = str(input(\"Enter a user name:  \"))\n",
    "\n",
    "# Eğer kullanıcı adı doğruysa devam eder, değilse program sona erer\n",
    "if user_name == user_valid:\n",
    "    right = 3  # Şifre girişi için 3 deneme hakkı var\n",
    "    while right > 0:\n",
    "        password = input(\"Enter a user password : \")\n",
    "        if user_password == password:\n",
    "            print(\"Succesfully \")\n",
    "            break\n",
    "        else:\n",
    "            right -= 1\n",
    "            if right > 0:\n",
    "                print(f\"Wrong password it's right : {right}\")\n",
    "            else:\n",
    "                print(\"You have entered the wrong password three times. The program is terminating.\")\n",
    "else:\n",
    "    print(\"User name is wrong\")"
   ]
  },
  {
   "cell_type": "code",
   "execution_count": null,
   "id": "7d97369b-2f93-4531-87c2-3f3e50bb85a8",
   "metadata": {},
   "outputs": [],
   "source": []
  }
 ],
 "metadata": {
  "kernelspec": {
   "display_name": "Python 3 (ipykernel)",
   "language": "python",
   "name": "python3"
  },
  "language_info": {
   "codemirror_mode": {
    "name": "ipython",
    "version": 3
   },
   "file_extension": ".py",
   "mimetype": "text/x-python",
   "name": "python",
   "nbconvert_exporter": "python",
   "pygments_lexer": "ipython3",
   "version": "3.12.4"
  }
 },
 "nbformat": 4,
 "nbformat_minor": 5
}
